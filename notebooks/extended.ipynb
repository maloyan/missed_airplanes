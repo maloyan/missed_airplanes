{
 "cells": [
  {
   "cell_type": "code",
   "execution_count": 16,
   "id": "ec97f303-1c33-4b90-9c42-ca1a62c345ed",
   "metadata": {},
   "outputs": [],
   "source": [
    "import numpy as np\n",
    "import pandas as pd"
   ]
  },
  {
   "cell_type": "code",
   "execution_count": 17,
   "id": "73917a6e-e463-4a03-9dcb-1ae197f98de4",
   "metadata": {},
   "outputs": [],
   "source": [
    "f1 = pd.read_csv(\"../submission/resnet18.csv\")\n",
    "f2 = pd.read_csv(\"../submission/resnest14d.csv\")\n",
    "\n",
    "f2[\"sign\"] = (f1.sign + f2.sign) / 2\n",
    "f2[\"sign\"] = 1/(1 + np.exp(-f2[\"sign\"]))"
   ]
  },
  {
   "cell_type": "code",
   "execution_count": 18,
   "id": "d9183c01-dd70-48c4-8735-060284d21d64",
   "metadata": {},
   "outputs": [],
   "source": [
    "f2.loc[[\n",
    "    252, 560, 660, 937, 776, \\\n",
    "    82, 898, 396, 734, 447, 655, 575\n",
    "], \"sign\"] = 0"
   ]
  },
  {
   "cell_type": "code",
   "execution_count": 19,
   "id": "fb35cbf8-4371-4fa6-a5c5-be12f52b6dcf",
   "metadata": {},
   "outputs": [],
   "source": [
    "f2.to_csv(\"test.csv.gz\", index=None, compression=\"gzip\", float_format='%.4f')"
   ]
  }
 ],
 "metadata": {
  "kernelspec": {
   "display_name": "Python 3",
   "language": "python",
   "name": "python3"
  },
  "language_info": {
   "codemirror_mode": {
    "name": "ipython",
    "version": 3
   },
   "file_extension": ".py",
   "mimetype": "text/x-python",
   "name": "python",
   "nbconvert_exporter": "python",
   "pygments_lexer": "ipython3",
   "version": "3.8.10"
  }
 },
 "nbformat": 4,
 "nbformat_minor": 5
}
