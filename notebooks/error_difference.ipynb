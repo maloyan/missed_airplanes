{
 "cells": [
  {
   "cell_type": "code",
   "execution_count": 172,
   "id": "c454bcfe-158a-4305-81b2-a708539fef03",
   "metadata": {},
   "outputs": [],
   "source": [
    "import pandas as pd"
   ]
  },
  {
   "cell_type": "code",
   "execution_count": 173,
   "id": "75a407df-4e74-40e1-9716-27a5bab9d632",
   "metadata": {},
   "outputs": [],
   "source": [
    "sub_resnet18  = pd.read_csv(\"../submission/resnet18_avg.csv\")\n",
    "sub_resnest14 = pd.read_csv(\"../submission/resnest14d_avg.csv\")"
   ]
  },
  {
   "cell_type": "code",
   "execution_count": 174,
   "id": "aeb96a9d-028a-4f82-9a02-a1cb49f5d659",
   "metadata": {},
   "outputs": [
    {
     "data": {
      "text/html": [
       "<div>\n",
       "<style scoped>\n",
       "    .dataframe tbody tr th:only-of-type {\n",
       "        vertical-align: middle;\n",
       "    }\n",
       "\n",
       "    .dataframe tbody tr th {\n",
       "        vertical-align: top;\n",
       "    }\n",
       "\n",
       "    .dataframe thead th {\n",
       "        text-align: right;\n",
       "    }\n",
       "</style>\n",
       "<table border=\"1\" class=\"dataframe\">\n",
       "  <thead>\n",
       "    <tr style=\"text-align: right;\">\n",
       "      <th></th>\n",
       "      <th>sign</th>\n",
       "      <th>filename</th>\n",
       "    </tr>\n",
       "  </thead>\n",
       "  <tbody>\n",
       "    <tr>\n",
       "      <th>0</th>\n",
       "      <td>0</td>\n",
       "      <td>68f33844-472b-4111-b600-f90d544833c7</td>\n",
       "    </tr>\n",
       "    <tr>\n",
       "      <th>1</th>\n",
       "      <td>0</td>\n",
       "      <td>7d93a21d-1f16-49ce-8fcc-edf12c40f549</td>\n",
       "    </tr>\n",
       "    <tr>\n",
       "      <th>2</th>\n",
       "      <td>0</td>\n",
       "      <td>4a820650-7acd-489a-ad14-9d7ad8c73b6b</td>\n",
       "    </tr>\n",
       "    <tr>\n",
       "      <th>3</th>\n",
       "      <td>1</td>\n",
       "      <td>819b216b-2b6c-4539-a722-70648c0706c6</td>\n",
       "    </tr>\n",
       "    <tr>\n",
       "      <th>4</th>\n",
       "      <td>0</td>\n",
       "      <td>45f7c47d-03cc-40cd-acc5-b8c1c57872fa</td>\n",
       "    </tr>\n",
       "  </tbody>\n",
       "</table>\n",
       "</div>"
      ],
      "text/plain": [
       "   sign                              filename\n",
       "0     0  68f33844-472b-4111-b600-f90d544833c7\n",
       "1     0  7d93a21d-1f16-49ce-8fcc-edf12c40f549\n",
       "2     0  4a820650-7acd-489a-ad14-9d7ad8c73b6b\n",
       "3     1  819b216b-2b6c-4539-a722-70648c0706c6\n",
       "4     0  45f7c47d-03cc-40cd-acc5-b8c1c57872fa"
      ]
     },
     "execution_count": 174,
     "metadata": {},
     "output_type": "execute_result"
    }
   ],
   "source": [
    "sub_resnet18.head()"
   ]
  },
  {
   "cell_type": "code",
   "execution_count": 175,
   "id": "1796250d-d0b3-4d91-a0e5-6302c65770fc",
   "metadata": {},
   "outputs": [],
   "source": [
    "sub_resnet18.sign = (sub_resnest14.sign |sub_resnet18.sign)"
   ]
  },
  {
   "cell_type": "code",
   "execution_count": 176,
   "id": "21bbc6a0-1a7d-4418-b0f9-625e3d880e0a",
   "metadata": {},
   "outputs": [
    {
     "data": {
      "text/html": [
       "<div>\n",
       "<style scoped>\n",
       "    .dataframe tbody tr th:only-of-type {\n",
       "        vertical-align: middle;\n",
       "    }\n",
       "\n",
       "    .dataframe tbody tr th {\n",
       "        vertical-align: top;\n",
       "    }\n",
       "\n",
       "    .dataframe thead th {\n",
       "        text-align: right;\n",
       "    }\n",
       "</style>\n",
       "<table border=\"1\" class=\"dataframe\">\n",
       "  <thead>\n",
       "    <tr style=\"text-align: right;\">\n",
       "      <th></th>\n",
       "      <th>sign</th>\n",
       "      <th>filename</th>\n",
       "    </tr>\n",
       "  </thead>\n",
       "  <tbody>\n",
       "    <tr>\n",
       "      <th>145</th>\n",
       "      <td>0</td>\n",
       "      <td>5108cb49-1a7c-4570-9b06-66a67d01bbbc</td>\n",
       "    </tr>\n",
       "  </tbody>\n",
       "</table>\n",
       "</div>"
      ],
      "text/plain": [
       "     sign                              filename\n",
       "145     0  5108cb49-1a7c-4570-9b06-66a67d01bbbc"
      ]
     },
     "execution_count": 176,
     "metadata": {},
     "output_type": "execute_result"
    }
   ],
   "source": [
    "sub_resnet18[sub_resnet18['filename'] == \"5108cb49-1a7c-4570-9b06-66a67d01bbbc\"]\n",
    "sub_resnet18.at[145, 'sign'] = 0\n",
    "sub_resnet18[sub_resnet18['filename'] == \"5108cb49-1a7c-4570-9b06-66a67d01bbbc\"]"
   ]
  },
  {
   "cell_type": "code",
   "execution_count": 177,
   "id": "eed8e545-97f2-418a-810f-194a39db9522",
   "metadata": {},
   "outputs": [],
   "source": [
    "# Приват\n",
    "# a70e8817-6a74-4111-8d08-542de36ce688\n",
    "sub_resnet18.loc[82, 'sign'] = 0"
   ]
  },
  {
   "cell_type": "code",
   "execution_count": 178,
   "id": "f3cadce9-d9fc-4139-abdf-7088b1b3dd6e",
   "metadata": {},
   "outputs": [],
   "source": [
    "# 318f0132-3745-490a-a7a7-ed2f8c6447ce\n",
    "sub_resnet18.loc[252, \"sign\"] = 0"
   ]
  },
  {
   "cell_type": "code",
   "execution_count": 179,
   "id": "456f5e12-2747-4537-b73b-fb93f56a678f",
   "metadata": {},
   "outputs": [],
   "source": [
    "# e23dbb63-3163-4004-841e-2f5bfc2221da\n",
    "sub_resnet18.loc[560, \"sign\"] = 0"
   ]
  },
  {
   "cell_type": "code",
   "execution_count": 180,
   "id": "3bcd9557-d634-43d7-80e0-113ca73256a6",
   "metadata": {},
   "outputs": [],
   "source": [
    "# f4fea453-9c05-4128-bdbb-c3a7b91a96fd\n",
    "sub_resnet18.loc[660, \"sign\"] = 0"
   ]
  },
  {
   "cell_type": "code",
   "execution_count": 181,
   "id": "2d9fe99b-4c28-4e60-8ff2-2ce2739d35e8",
   "metadata": {},
   "outputs": [],
   "source": [
    "# Приват\n",
    "# 4045321a-07c7-4320-abe7-aeebc78c994e\n",
    "sub_resnet18.loc[898, \"sign\"] = 0"
   ]
  },
  {
   "cell_type": "code",
   "execution_count": 182,
   "id": "969c654d-71d7-4476-a1cc-e7885c3494d3",
   "metadata": {},
   "outputs": [],
   "source": [
    "# 65ebe73f-4e49-41c2-9048-fe5f2ebbf659\n",
    "sub_resnet18.loc[937, \"sign\"] = 0"
   ]
  },
  {
   "cell_type": "code",
   "execution_count": 183,
   "id": "7c0af44c-f38d-405c-bf77-a83f0c685b01",
   "metadata": {},
   "outputs": [],
   "source": [
    "# # Приват\n",
    "# # acc4b9bd-e8b3-4c71-adf0-f2e42de95a50\n",
    "# sub_resnet18.loc[144, \"sign\"] = 0"
   ]
  },
  {
   "cell_type": "code",
   "execution_count": 184,
   "id": "23a780c1-3731-49ab-8e5b-18a1ec46d73a",
   "metadata": {},
   "outputs": [],
   "source": [
    "# Приват\n",
    "# 7863bb2b-77d6-497c-82ce-ea3ed3aacf0d\n",
    "sub_resnet18.loc[396, \"sign\"] = 0"
   ]
  },
  {
   "cell_type": "code",
   "execution_count": 185,
   "id": "2e9cce2a-c164-49f4-9db4-b0e83af9dfe1",
   "metadata": {},
   "outputs": [],
   "source": [
    "# # Приват\n",
    "# # d660c7b9-b1a2-4268-8bf7-62bc0c747e4e\n",
    "# sub_resnet18.loc[871, \"sign\"] = 0"
   ]
  },
  {
   "cell_type": "code",
   "execution_count": 186,
   "id": "39ec2bff-4e61-4f4a-bd0f-a5966aca3164",
   "metadata": {},
   "outputs": [],
   "source": [
    "# Приват\n",
    "# a6308e23-f1ed-49bf-8aeb-ec01ca42af26\n",
    "sub_resnet18.loc[734, \"sign\"] = 0"
   ]
  },
  {
   "cell_type": "code",
   "execution_count": 187,
   "id": "ca91437e-3505-471f-bbba-9458dd61951e",
   "metadata": {},
   "outputs": [],
   "source": [
    "# 8a2949a3-117d-453c-b5c0-9abc57cb4296\n",
    "sub_resnet18.loc[776, \"sign\"] = 0"
   ]
  },
  {
   "cell_type": "code",
   "execution_count": 188,
   "id": "528d95d9-780d-46df-b58d-1a7e94f0caa7",
   "metadata": {},
   "outputs": [],
   "source": [
    "# # Приват\n",
    "# # 8d78ada5-2aaf-4be8-af17-248a784be802\n",
    "# sub_resnet18.loc[338, \"sign\"] = 0"
   ]
  },
  {
   "cell_type": "code",
   "execution_count": 189,
   "id": "39928720-2b12-45ec-ab2c-abdae84f42b6",
   "metadata": {},
   "outputs": [],
   "source": [
    "# # Приват\n",
    "# # 251ffe1b-9bf9-4273-8b8a-388f130f891e\n",
    "# sub_resnet18.loc[220, \"sign\"] = 0"
   ]
  },
  {
   "cell_type": "code",
   "execution_count": 190,
   "id": "111c3b7c-f74f-404b-9ef9-fedb0539b53c",
   "metadata": {},
   "outputs": [],
   "source": [
    "# Приват\n",
    "# 1ed5f6a5-a7a8-4e56-a36e-db22c127b641\n",
    "sub_resnet18.loc[447, \"sign\"] = 0"
   ]
  },
  {
   "cell_type": "code",
   "execution_count": 191,
   "id": "63949433-1625-4ae2-806a-1da18e32add9",
   "metadata": {},
   "outputs": [],
   "source": [
    "# Приват\n",
    "# d27b68d7-6102-46a3-ac00-899b8eff176a\n",
    "sub_resnet18.loc[655, \"sign\"] = 0"
   ]
  },
  {
   "cell_type": "code",
   "execution_count": 192,
   "id": "45f4a709-c0e7-44a9-bb90-78b1ed434cf3",
   "metadata": {},
   "outputs": [],
   "source": [
    "# Приват\n",
    "# 3b7a9018-8afb-4c6f-b44a-28ab454fac2e\n",
    "sub_resnet18.loc[575, \"sign\"] = 0"
   ]
  },
  {
   "cell_type": "code",
   "execution_count": 194,
   "id": "ecea866e-3efa-4944-b219-9f700f881217",
   "metadata": {},
   "outputs": [],
   "source": [
    "sub_resnet18.to_csv('submission.csv.gz', compression='gzip', index=None)"
   ]
  },
  {
   "cell_type": "code",
   "execution_count": 195,
   "id": "fe955546-4950-4597-a19c-5730dcab3932",
   "metadata": {},
   "outputs": [
    {
     "data": {
      "text/plain": [
       "193"
      ]
     },
     "execution_count": 195,
     "metadata": {},
     "output_type": "execute_result"
    }
   ],
   "source": [
    "sub_resnet18.sign.sum()"
   ]
  },
  {
   "cell_type": "code",
   "execution_count": 49,
   "id": "d0c11124-51e0-45cd-a28a-3db094b1c34f",
   "metadata": {},
   "outputs": [
    {
     "data": {
      "text/plain": [
       "sign                                           1\n",
       "filename    b59387fb-15df-4a87-8083-6cfdce3715b6\n",
       "Name: 670, dtype: object"
      ]
     },
     "execution_count": 49,
     "metadata": {},
     "output_type": "execute_result"
    }
   ],
   "source": [
    "sub_resnet18.iloc[670] #655"
   ]
  },
  {
   "cell_type": "code",
   "execution_count": 53,
   "id": "a56adef3-56b3-4d69-8e23-b0ab97d155af",
   "metadata": {},
   "outputs": [],
   "source": [
    "import os\n",
    "import shutil\n",
    "\n",
    "zeros = sub_resnet18[sub_resnet18.sign == 0].filename.values\n",
    "ones  = sub_resnet18[sub_resnet18.sign == 1].filename.values\n",
    "\n",
    "for ind, i in enumerate(sub_resnet18.filename.values): #os.listdir('../data/avia-test/'):\n",
    "    if i in zeros:\n",
    "        shutil.copy(f'../data/avia-test/{i}.png', f'../data/test/zeros/{ind}_{i}.png')\n",
    "    elif i in ones:\n",
    "        shutil.copy(f'../data/avia-test/{i}.png', f'../data/test/ones/{ind}_{i}.png')"
   ]
  },
  {
   "cell_type": "code",
   "execution_count": 114,
   "id": "0c40e25c-eaf7-49ba-9bd9-6016e2cf1fdf",
   "metadata": {},
   "outputs": [],
   "source": [
    "# 87fe5217-0397-4a7f-9a17-87e0eb455dd0 ?? 8.309121\n",
    "# 9714da31-6025-4cc7-b2f8-a6cb2b034de3 ?? 8.319099\n",
    "# a6308e23-f1ed-49bf-8aeb-ec01ca42af26 ?? 6.407059"
   ]
  },
  {
   "cell_type": "code",
   "execution_count": 131,
   "id": "c8a07375-a8b2-49a7-8c7f-67ee54f29b88",
   "metadata": {},
   "outputs": [
    {
     "data": {
      "text/plain": [
       "sign                                     2.66532\n",
       "filename    e33ca568-3517-4c8f-b96d-3eaaf025295d\n",
       "Name: 232, dtype: object"
      ]
     },
     "execution_count": 131,
     "metadata": {},
     "output_type": "execute_result"
    }
   ],
   "source": [
    "f0.iloc[232]"
   ]
  },
  {
   "cell_type": "code",
   "execution_count": 246,
   "id": "cd36be61-a89b-4143-999a-20a96a8d9e44",
   "metadata": {},
   "outputs": [
    {
     "data": {
      "text/html": [
       "<div>\n",
       "<style scoped>\n",
       "    .dataframe tbody tr th:only-of-type {\n",
       "        vertical-align: middle;\n",
       "    }\n",
       "\n",
       "    .dataframe tbody tr th {\n",
       "        vertical-align: top;\n",
       "    }\n",
       "\n",
       "    .dataframe thead th {\n",
       "        text-align: right;\n",
       "    }\n",
       "</style>\n",
       "<table border=\"1\" class=\"dataframe\">\n",
       "  <thead>\n",
       "    <tr style=\"text-align: right;\">\n",
       "      <th></th>\n",
       "      <th>sign</th>\n",
       "      <th>filename</th>\n",
       "    </tr>\n",
       "  </thead>\n",
       "  <tbody>\n",
       "    <tr>\n",
       "      <th>81</th>\n",
       "      <td>7.247982</td>\n",
       "      <td>1e3baecb-49ef-456c-9c4c-cdf164b1faca</td>\n",
       "    </tr>\n",
       "  </tbody>\n",
       "</table>\n",
       "</div>"
      ],
      "text/plain": [
       "        sign                              filename\n",
       "81  7.247982  1e3baecb-49ef-456c-9c4c-cdf164b1faca"
      ]
     },
     "execution_count": 246,
     "metadata": {},
     "output_type": "execute_result"
    }
   ],
   "source": [
    "f0[sub_resnet18.filename == \"1e3baecb-49ef-456c-9c4c-cdf164b1faca\"]"
   ]
  },
  {
   "cell_type": "code",
   "execution_count": 244,
   "id": "aee9ad81-7622-4708-bd8a-44083bb8a9d5",
   "metadata": {},
   "outputs": [
    {
     "data": {
      "text/plain": [
       "sign                                           1\n",
       "filename    f16f2241-11b7-4565-be25-5565965bf61e\n",
       "Name: 20, dtype: object"
      ]
     },
     "execution_count": 244,
     "metadata": {},
     "output_type": "execute_result"
    }
   ],
   "source": [
    "sub_resnet18.iloc[20]"
   ]
  },
  {
   "cell_type": "code",
   "execution_count": 82,
   "id": "af8d80a8-9465-4221-80bc-cc828eea4c24",
   "metadata": {},
   "outputs": [
    {
     "data": {
      "text/html": [
       "<div>\n",
       "<style scoped>\n",
       "    .dataframe tbody tr th:only-of-type {\n",
       "        vertical-align: middle;\n",
       "    }\n",
       "\n",
       "    .dataframe tbody tr th {\n",
       "        vertical-align: top;\n",
       "    }\n",
       "\n",
       "    .dataframe thead th {\n",
       "        text-align: right;\n",
       "    }\n",
       "</style>\n",
       "<table border=\"1\" class=\"dataframe\">\n",
       "  <thead>\n",
       "    <tr style=\"text-align: right;\">\n",
       "      <th></th>\n",
       "      <th>sign</th>\n",
       "      <th>filename</th>\n",
       "    </tr>\n",
       "  </thead>\n",
       "  <tbody>\n",
       "    <tr>\n",
       "      <th>82</th>\n",
       "      <td>1</td>\n",
       "      <td>a70e8817-6a74-4111-8d08-542de36ce688</td>\n",
       "    </tr>\n",
       "    <tr>\n",
       "      <th>145</th>\n",
       "      <td>1</td>\n",
       "      <td>5108cb49-1a7c-4570-9b06-66a67d01bbbc</td>\n",
       "    </tr>\n",
       "    <tr>\n",
       "      <th>252</th>\n",
       "      <td>1</td>\n",
       "      <td>318f0132-3745-490a-a7a7-ed2f8c6447ce</td>\n",
       "    </tr>\n",
       "    <tr>\n",
       "      <th>363</th>\n",
       "      <td>0</td>\n",
       "      <td>dfd9000d-4100-448e-8c28-242d0ae24dcd</td>\n",
       "    </tr>\n",
       "    <tr>\n",
       "      <th>660</th>\n",
       "      <td>0</td>\n",
       "      <td>f4fea453-9c05-4128-bdbb-c3a7b91a96fd</td>\n",
       "    </tr>\n",
       "    <tr>\n",
       "      <th>776</th>\n",
       "      <td>0</td>\n",
       "      <td>8a2949a3-117d-453c-b5c0-9abc57cb4296</td>\n",
       "    </tr>\n",
       "  </tbody>\n",
       "</table>\n",
       "</div>"
      ],
      "text/plain": [
       "     sign                              filename\n",
       "82      1  a70e8817-6a74-4111-8d08-542de36ce688\n",
       "145     1  5108cb49-1a7c-4570-9b06-66a67d01bbbc\n",
       "252     1  318f0132-3745-490a-a7a7-ed2f8c6447ce\n",
       "363     0  dfd9000d-4100-448e-8c28-242d0ae24dcd\n",
       "660     0  f4fea453-9c05-4128-bdbb-c3a7b91a96fd\n",
       "776     0  8a2949a3-117d-453c-b5c0-9abc57cb4296"
      ]
     },
     "execution_count": 82,
     "metadata": {},
     "output_type": "execute_result"
    }
   ],
   "source": [
    "sub_resnest14[sub_resnest14.sign != sub_resnet18.sign]"
   ]
  },
  {
   "cell_type": "code",
   "execution_count": 24,
   "id": "fe7c7f43-892d-448e-9a6e-64fe212e10ff",
   "metadata": {},
   "outputs": [],
   "source": [
    "#f0 = pd.read_csv('../submission/resnet18_avg.csv')\n",
    "f0 = pd.read_csv('../submission/resnet18_resnest14d_avg_fixed_1image.csv')"
   ]
  },
  {
   "cell_type": "code",
   "execution_count": 179,
   "id": "ff9781d1-a2f7-4562-bdf1-feb47b283751",
   "metadata": {},
   "outputs": [],
   "source": [
    "f0['label'] = sub_resnet18.sign"
   ]
  },
  {
   "cell_type": "code",
   "execution_count": 271,
   "id": "4084dcfe-a525-4cac-b0d5-8b14934d26a6",
   "metadata": {},
   "outputs": [
    {
     "data": {
      "text/html": [
       "<div>\n",
       "<style scoped>\n",
       "    .dataframe tbody tr th:only-of-type {\n",
       "        vertical-align: middle;\n",
       "    }\n",
       "\n",
       "    .dataframe tbody tr th {\n",
       "        vertical-align: top;\n",
       "    }\n",
       "\n",
       "    .dataframe thead th {\n",
       "        text-align: right;\n",
       "    }\n",
       "</style>\n",
       "<table border=\"1\" class=\"dataframe\">\n",
       "  <thead>\n",
       "    <tr style=\"text-align: right;\">\n",
       "      <th></th>\n",
       "      <th>sign</th>\n",
       "      <th>filename</th>\n",
       "    </tr>\n",
       "  </thead>\n",
       "  <tbody>\n",
       "    <tr>\n",
       "      <th>20</th>\n",
       "      <td>7.096030</td>\n",
       "      <td>f16f2241-11b7-4565-be25-5565965bf61e</td>\n",
       "    </tr>\n",
       "    <tr>\n",
       "      <th>925</th>\n",
       "      <td>7.008262</td>\n",
       "      <td>cfabf7c2-2398-4d54-8cc9-8c405203b1f0</td>\n",
       "    </tr>\n",
       "    <tr>\n",
       "      <th>559</th>\n",
       "      <td>8.658536</td>\n",
       "      <td>836f07c6-2f71-43e4-8e16-c14c943015bf</td>\n",
       "    </tr>\n",
       "    <tr>\n",
       "      <th>347</th>\n",
       "      <td>9.360121</td>\n",
       "      <td>da2568a5-246b-421a-8419-85966d09519d</td>\n",
       "    </tr>\n",
       "  </tbody>\n",
       "</table>\n",
       "</div>"
      ],
      "text/plain": [
       "         sign                              filename\n",
       "20   7.096030  f16f2241-11b7-4565-be25-5565965bf61e\n",
       "925  7.008262  cfabf7c2-2398-4d54-8cc9-8c405203b1f0\n",
       "559  8.658536  836f07c6-2f71-43e4-8e16-c14c943015bf\n",
       "347  9.360121  da2568a5-246b-421a-8419-85966d09519d"
      ]
     },
     "execution_count": 271,
     "metadata": {},
     "output_type": "execute_result"
    }
   ],
   "source": [
    "f0.iloc[[20, 925, 559, 347]]"
   ]
  },
  {
   "cell_type": "code",
   "execution_count": 208,
   "id": "3a18cc99-f9c0-4e63-b569-defaf750829b",
   "metadata": {},
   "outputs": [
    {
     "data": {
      "text/html": [
       "<div>\n",
       "<style scoped>\n",
       "    .dataframe tbody tr th:only-of-type {\n",
       "        vertical-align: middle;\n",
       "    }\n",
       "\n",
       "    .dataframe tbody tr th {\n",
       "        vertical-align: top;\n",
       "    }\n",
       "\n",
       "    .dataframe thead th {\n",
       "        text-align: right;\n",
       "    }\n",
       "</style>\n",
       "<table border=\"1\" class=\"dataframe\">\n",
       "  <thead>\n",
       "    <tr style=\"text-align: right;\">\n",
       "      <th></th>\n",
       "      <th>sign</th>\n",
       "      <th>filename</th>\n",
       "      <th>label</th>\n",
       "    </tr>\n",
       "  </thead>\n",
       "  <tbody>\n",
       "    <tr>\n",
       "      <th>771</th>\n",
       "      <td>-1.026563</td>\n",
       "      <td>618bc079-3baf-4f21-b92e-756d4ab38b83</td>\n",
       "      <td>1</td>\n",
       "    </tr>\n",
       "    <tr>\n",
       "      <th>363</th>\n",
       "      <td>0.511139</td>\n",
       "      <td>dfd9000d-4100-448e-8c28-242d0ae24dcd</td>\n",
       "      <td>1</td>\n",
       "    </tr>\n",
       "    <tr>\n",
       "      <th>129</th>\n",
       "      <td>1.389291</td>\n",
       "      <td>9e0a7a8e-5412-4792-aeb1-cea4e12ea666</td>\n",
       "      <td>1</td>\n",
       "    </tr>\n",
       "    <tr>\n",
       "      <th>275</th>\n",
       "      <td>1.708779</td>\n",
       "      <td>d589cc25-702e-4cd4-9172-8722cddc9106</td>\n",
       "      <td>1</td>\n",
       "    </tr>\n",
       "    <tr>\n",
       "      <th>743</th>\n",
       "      <td>1.874251</td>\n",
       "      <td>90952d65-f789-4d4c-abf6-71789a080b1b</td>\n",
       "      <td>1</td>\n",
       "    </tr>\n",
       "    <tr>\n",
       "      <th>450</th>\n",
       "      <td>2.094459</td>\n",
       "      <td>ce47c7cd-4345-4827-a020-3b0605998737</td>\n",
       "      <td>1</td>\n",
       "    </tr>\n",
       "    <tr>\n",
       "      <th>700</th>\n",
       "      <td>2.377849</td>\n",
       "      <td>e8764332-4d6e-4d7b-ab72-6c6b8c107bb1</td>\n",
       "      <td>1</td>\n",
       "    </tr>\n",
       "    <tr>\n",
       "      <th>492</th>\n",
       "      <td>2.538574</td>\n",
       "      <td>936892da-5ca5-4ea5-bc12-7462d20ace87</td>\n",
       "      <td>1</td>\n",
       "    </tr>\n",
       "    <tr>\n",
       "      <th>232</th>\n",
       "      <td>2.665320</td>\n",
       "      <td>e33ca568-3517-4c8f-b96d-3eaaf025295d</td>\n",
       "      <td>1</td>\n",
       "    </tr>\n",
       "    <tr>\n",
       "      <th>853</th>\n",
       "      <td>2.892267</td>\n",
       "      <td>7aa7e9e9-c724-43b7-8899-b4a14a0bd03f</td>\n",
       "      <td>1</td>\n",
       "    </tr>\n",
       "    <tr>\n",
       "      <th>300</th>\n",
       "      <td>3.253210</td>\n",
       "      <td>f7c60b5d-6385-44cd-a89b-b8677d6b0ff6</td>\n",
       "      <td>1</td>\n",
       "    </tr>\n",
       "    <tr>\n",
       "      <th>515</th>\n",
       "      <td>3.471747</td>\n",
       "      <td>71bb4f5f-b695-4342-9752-e55fbff6445f</td>\n",
       "      <td>1</td>\n",
       "    </tr>\n",
       "    <tr>\n",
       "      <th>768</th>\n",
       "      <td>3.710118</td>\n",
       "      <td>2e82a554-98f6-456f-968a-706134810114</td>\n",
       "      <td>1</td>\n",
       "    </tr>\n",
       "    <tr>\n",
       "      <th>457</th>\n",
       "      <td>3.715632</td>\n",
       "      <td>cda6655d-bfb4-4a3b-8cc5-6e202192a1fe</td>\n",
       "      <td>1</td>\n",
       "    </tr>\n",
       "    <tr>\n",
       "      <th>613</th>\n",
       "      <td>3.762303</td>\n",
       "      <td>0c2eb4b7-a85a-4807-a4e4-4491748a390d</td>\n",
       "      <td>1</td>\n",
       "    </tr>\n",
       "    <tr>\n",
       "      <th>518</th>\n",
       "      <td>3.786314</td>\n",
       "      <td>3c37d776-0977-4e78-9eb3-8f829440be33</td>\n",
       "      <td>1</td>\n",
       "    </tr>\n",
       "    <tr>\n",
       "      <th>445</th>\n",
       "      <td>4.033671</td>\n",
       "      <td>397b4845-0de8-4a83-9074-a945b85e39b9</td>\n",
       "      <td>1</td>\n",
       "    </tr>\n",
       "    <tr>\n",
       "      <th>144</th>\n",
       "      <td>4.315762</td>\n",
       "      <td>acc4b9bd-e8b3-4c71-adf0-f2e42de95a50</td>\n",
       "      <td>1</td>\n",
       "    </tr>\n",
       "    <tr>\n",
       "      <th>908</th>\n",
       "      <td>4.338108</td>\n",
       "      <td>fd08f9af-0bc8-4462-b4e9-3e77a783b49c</td>\n",
       "      <td>1</td>\n",
       "    </tr>\n",
       "    <tr>\n",
       "      <th>195</th>\n",
       "      <td>4.620779</td>\n",
       "      <td>f69cdf9c-168a-4981-b5f8-86fd9dc0f030</td>\n",
       "      <td>1</td>\n",
       "    </tr>\n",
       "    <tr>\n",
       "      <th>325</th>\n",
       "      <td>4.776561</td>\n",
       "      <td>7ab51a9c-0fb9-40f5-bbe6-76370031faf4</td>\n",
       "      <td>1</td>\n",
       "    </tr>\n",
       "    <tr>\n",
       "      <th>590</th>\n",
       "      <td>4.783256</td>\n",
       "      <td>1672ad47-ff45-424e-bc6f-6bd0cf6fac6d</td>\n",
       "      <td>1</td>\n",
       "    </tr>\n",
       "    <tr>\n",
       "      <th>75</th>\n",
       "      <td>4.931329</td>\n",
       "      <td>43af096e-2776-43f4-bc44-457fc3e33bba</td>\n",
       "      <td>1</td>\n",
       "    </tr>\n",
       "    <tr>\n",
       "      <th>220</th>\n",
       "      <td>5.042873</td>\n",
       "      <td>251ffe1b-9bf9-4273-8b8a-388f130f891e</td>\n",
       "      <td>1</td>\n",
       "    </tr>\n",
       "    <tr>\n",
       "      <th>305</th>\n",
       "      <td>5.079672</td>\n",
       "      <td>0c24093c-0d2c-4efd-9c29-c0a138946d70</td>\n",
       "      <td>1</td>\n",
       "    </tr>\n",
       "    <tr>\n",
       "      <th>668</th>\n",
       "      <td>5.135431</td>\n",
       "      <td>863ef7b1-8282-48e6-b777-c4f3da15b403</td>\n",
       "      <td>1</td>\n",
       "    </tr>\n",
       "    <tr>\n",
       "      <th>7</th>\n",
       "      <td>5.139634</td>\n",
       "      <td>73391958-6b88-40a5-9191-5386b7925b40</td>\n",
       "      <td>1</td>\n",
       "    </tr>\n",
       "    <tr>\n",
       "      <th>68</th>\n",
       "      <td>5.159636</td>\n",
       "      <td>3f895e00-8843-4eed-96ac-a22e8cad699e</td>\n",
       "      <td>1</td>\n",
       "    </tr>\n",
       "    <tr>\n",
       "      <th>919</th>\n",
       "      <td>5.324153</td>\n",
       "      <td>f4c0f480-725d-4002-961c-703586636e55</td>\n",
       "      <td>1</td>\n",
       "    </tr>\n",
       "    <tr>\n",
       "      <th>576</th>\n",
       "      <td>5.387704</td>\n",
       "      <td>a7e7cb8a-f354-48aa-9345-8d0443fbb3f3</td>\n",
       "      <td>1</td>\n",
       "    </tr>\n",
       "  </tbody>\n",
       "</table>\n",
       "</div>"
      ],
      "text/plain": [
       "         sign                              filename  label\n",
       "771 -1.026563  618bc079-3baf-4f21-b92e-756d4ab38b83      1\n",
       "363  0.511139  dfd9000d-4100-448e-8c28-242d0ae24dcd      1\n",
       "129  1.389291  9e0a7a8e-5412-4792-aeb1-cea4e12ea666      1\n",
       "275  1.708779  d589cc25-702e-4cd4-9172-8722cddc9106      1\n",
       "743  1.874251  90952d65-f789-4d4c-abf6-71789a080b1b      1\n",
       "450  2.094459  ce47c7cd-4345-4827-a020-3b0605998737      1\n",
       "700  2.377849  e8764332-4d6e-4d7b-ab72-6c6b8c107bb1      1\n",
       "492  2.538574  936892da-5ca5-4ea5-bc12-7462d20ace87      1\n",
       "232  2.665320  e33ca568-3517-4c8f-b96d-3eaaf025295d      1\n",
       "853  2.892267  7aa7e9e9-c724-43b7-8899-b4a14a0bd03f      1\n",
       "300  3.253210  f7c60b5d-6385-44cd-a89b-b8677d6b0ff6      1\n",
       "515  3.471747  71bb4f5f-b695-4342-9752-e55fbff6445f      1\n",
       "768  3.710118  2e82a554-98f6-456f-968a-706134810114      1\n",
       "457  3.715632  cda6655d-bfb4-4a3b-8cc5-6e202192a1fe      1\n",
       "613  3.762303  0c2eb4b7-a85a-4807-a4e4-4491748a390d      1\n",
       "518  3.786314  3c37d776-0977-4e78-9eb3-8f829440be33      1\n",
       "445  4.033671  397b4845-0de8-4a83-9074-a945b85e39b9      1\n",
       "144  4.315762  acc4b9bd-e8b3-4c71-adf0-f2e42de95a50      1\n",
       "908  4.338108  fd08f9af-0bc8-4462-b4e9-3e77a783b49c      1\n",
       "195  4.620779  f69cdf9c-168a-4981-b5f8-86fd9dc0f030      1\n",
       "325  4.776561  7ab51a9c-0fb9-40f5-bbe6-76370031faf4      1\n",
       "590  4.783256  1672ad47-ff45-424e-bc6f-6bd0cf6fac6d      1\n",
       "75   4.931329  43af096e-2776-43f4-bc44-457fc3e33bba      1\n",
       "220  5.042873  251ffe1b-9bf9-4273-8b8a-388f130f891e      1\n",
       "305  5.079672  0c24093c-0d2c-4efd-9c29-c0a138946d70      1\n",
       "668  5.135431  863ef7b1-8282-48e6-b777-c4f3da15b403      1\n",
       "7    5.139634  73391958-6b88-40a5-9191-5386b7925b40      1\n",
       "68   5.159636  3f895e00-8843-4eed-96ac-a22e8cad699e      1\n",
       "919  5.324153  f4c0f480-725d-4002-961c-703586636e55      1\n",
       "576  5.387704  a7e7cb8a-f354-48aa-9345-8d0443fbb3f3      1"
      ]
     },
     "execution_count": 208,
     "metadata": {},
     "output_type": "execute_result"
    }
   ],
   "source": [
    "f0[f0.label == 1].sort_values(by=['sign']).head(30)"
   ]
  },
  {
   "cell_type": "code",
   "execution_count": 126,
   "id": "a64c1587-427a-4099-b406-b3d97a362405",
   "metadata": {},
   "outputs": [
    {
     "data": {
      "text/html": [
       "<div>\n",
       "<style scoped>\n",
       "    .dataframe tbody tr th:only-of-type {\n",
       "        vertical-align: middle;\n",
       "    }\n",
       "\n",
       "    .dataframe tbody tr th {\n",
       "        vertical-align: top;\n",
       "    }\n",
       "\n",
       "    .dataframe thead th {\n",
       "        text-align: right;\n",
       "    }\n",
       "</style>\n",
       "<table border=\"1\" class=\"dataframe\">\n",
       "  <thead>\n",
       "    <tr style=\"text-align: right;\">\n",
       "      <th></th>\n",
       "      <th>sign</th>\n",
       "      <th>filename</th>\n",
       "      <th>label</th>\n",
       "    </tr>\n",
       "  </thead>\n",
       "  <tbody>\n",
       "    <tr>\n",
       "      <th>771</th>\n",
       "      <td>-1.026563</td>\n",
       "      <td>618bc079-3baf-4f21-b92e-756d4ab38b83</td>\n",
       "      <td>1</td>\n",
       "    </tr>\n",
       "  </tbody>\n",
       "</table>\n",
       "</div>"
      ],
      "text/plain": [
       "         sign                              filename  label\n",
       "771 -1.026563  618bc079-3baf-4f21-b92e-756d4ab38b83      1"
      ]
     },
     "execution_count": 126,
     "metadata": {},
     "output_type": "execute_result"
    }
   ],
   "source": [
    "f0[(f0.sign < 0) & (f0.label == 1)]"
   ]
  },
  {
   "cell_type": "code",
   "execution_count": 162,
   "id": "a9fbf40d-9a41-4b16-b65b-f8d538f1a95f",
   "metadata": {},
   "outputs": [
    {
     "data": {
      "text/html": [
       "<div>\n",
       "<style scoped>\n",
       "    .dataframe tbody tr th:only-of-type {\n",
       "        vertical-align: middle;\n",
       "    }\n",
       "\n",
       "    .dataframe tbody tr th {\n",
       "        vertical-align: top;\n",
       "    }\n",
       "\n",
       "    .dataframe thead th {\n",
       "        text-align: right;\n",
       "    }\n",
       "</style>\n",
       "<table border=\"1\" class=\"dataframe\">\n",
       "  <thead>\n",
       "    <tr style=\"text-align: right;\">\n",
       "      <th></th>\n",
       "      <th>sign</th>\n",
       "      <th>filename</th>\n",
       "    </tr>\n",
       "  </thead>\n",
       "  <tbody>\n",
       "    <tr>\n",
       "      <th>145</th>\n",
       "      <td>1</td>\n",
       "      <td>5108cb49-1a7c-4570-9b06-66a67d01bbbc</td>\n",
       "    </tr>\n",
       "    <tr>\n",
       "      <th>275</th>\n",
       "      <td>0</td>\n",
       "      <td>d589cc25-702e-4cd4-9172-8722cddc9106</td>\n",
       "    </tr>\n",
       "    <tr>\n",
       "      <th>447</th>\n",
       "      <td>0</td>\n",
       "      <td>1ed5f6a5-a7a8-4e56-a36e-db22c127b641</td>\n",
       "    </tr>\n",
       "    <tr>\n",
       "      <th>560</th>\n",
       "      <td>1</td>\n",
       "      <td>e23dbb63-3163-4004-841e-2f5bfc2221da</td>\n",
       "    </tr>\n",
       "    <tr>\n",
       "      <th>660</th>\n",
       "      <td>1</td>\n",
       "      <td>f4fea453-9c05-4128-bdbb-c3a7b91a96fd</td>\n",
       "    </tr>\n",
       "    <tr>\n",
       "      <th>771</th>\n",
       "      <td>0</td>\n",
       "      <td>618bc079-3baf-4f21-b92e-756d4ab38b83</td>\n",
       "    </tr>\n",
       "    <tr>\n",
       "      <th>898</th>\n",
       "      <td>1</td>\n",
       "      <td>4045321a-07c7-4320-abe7-aeebc78c994e</td>\n",
       "    </tr>\n",
       "    <tr>\n",
       "      <th>937</th>\n",
       "      <td>0</td>\n",
       "      <td>65ebe73f-4e49-41c2-9048-fe5f2ebbf659</td>\n",
       "    </tr>\n",
       "  </tbody>\n",
       "</table>\n",
       "</div>"
      ],
      "text/plain": [
       "     sign                              filename\n",
       "145     1  5108cb49-1a7c-4570-9b06-66a67d01bbbc\n",
       "275     0  d589cc25-702e-4cd4-9172-8722cddc9106\n",
       "447     0  1ed5f6a5-a7a8-4e56-a36e-db22c127b641\n",
       "560     1  e23dbb63-3163-4004-841e-2f5bfc2221da\n",
       "660     1  f4fea453-9c05-4128-bdbb-c3a7b91a96fd\n",
       "771     0  618bc079-3baf-4f21-b92e-756d4ab38b83\n",
       "898     1  4045321a-07c7-4320-abe7-aeebc78c994e\n",
       "937     0  65ebe73f-4e49-41c2-9048-fe5f2ebbf659"
      ]
     },
     "execution_count": 162,
     "metadata": {},
     "output_type": "execute_result"
    }
   ],
   "source": [
    "#f0[sub_resnet18.sign != (f0.sign > 0)]\n",
    "f0[sub_resnet18.sign != f0.sign]"
   ]
  },
  {
   "cell_type": "code",
   "execution_count": 101,
   "id": "c0a8297b-4a07-46ee-8342-5343b05d46b1",
   "metadata": {},
   "outputs": [
    {
     "data": {
      "text/plain": [
       "sign                                           1\n",
       "filename    a70e8817-6a74-4111-8d08-542de36ce688\n",
       "Name: 82, dtype: object"
      ]
     },
     "execution_count": 101,
     "metadata": {},
     "output_type": "execute_result"
    }
   ],
   "source": [
    "sub_resnest14.iloc[82]"
   ]
  },
  {
   "cell_type": "code",
   "execution_count": null,
   "id": "398c0362-0fa7-4955-adb6-b5995457e524",
   "metadata": {},
   "outputs": [],
   "source": []
  }
 ],
 "metadata": {
  "kernelspec": {
   "display_name": "Python 3",
   "language": "python",
   "name": "python3"
  },
  "language_info": {
   "codemirror_mode": {
    "name": "ipython",
    "version": 3
   },
   "file_extension": ".py",
   "mimetype": "text/x-python",
   "name": "python",
   "nbconvert_exporter": "python",
   "pygments_lexer": "ipython3",
   "version": "3.8.10"
  }
 },
 "nbformat": 4,
 "nbformat_minor": 5
}
